{
  "nbformat": 4,
  "nbformat_minor": 0,
  "metadata": {
    "colab": {
      "provenance": []
    },
    "kernelspec": {
      "name": "python3",
      "display_name": "Python 3"
    },
    "language_info": {
      "name": "python"
    }
  },
  "cells": [
    {
      "cell_type": "markdown",
      "source": [
        "# Importing Libraries"
      ],
      "metadata": {
        "id": "vk4MBVBUvm5y"
      }
    },
    {
      "cell_type": "code",
      "source": [
        "import pandas as pd\n",
        "import matplotlib.pyplot as plt\n",
        "import warnings as w\n",
        "w.filterwarnings('ignore')\n",
        "from sklearn.preprocessing import StandardScaler\n",
        "from sklearn.cluster import KMeans\n",
        "from sklearn.metrics import silhouette_score\n"
      ],
      "metadata": {
        "id": "hS9nDyH0vNfo"
      },
      "execution_count": 10,
      "outputs": []
    },
    {
      "cell_type": "markdown",
      "source": [
        "# Load the dataset"
      ],
      "metadata": {
        "id": "qcX4yqnvvr8O"
      }
    },
    {
      "cell_type": "code",
      "execution_count": 11,
      "metadata": {
        "colab": {
          "base_uri": "https://localhost:8080/"
        },
        "id": "fx8LX7B1tIBr",
        "outputId": "a3f663b7-11c0-44b9-fbfe-7ce5e028de2f"
      },
      "outputs": [
        {
          "output_type": "stream",
          "name": "stdout",
          "text": [
            "   TARGET_BAD_FLAG  TARGET_LOSS_AMT  LOAN  MORTDUE     VALUE   REASON     JOB  \\\n",
            "0                1            641.0  1100  25860.0   39025.0  HomeImp   Other   \n",
            "1                1           1109.0  1300  70053.0   68400.0  HomeImp   Other   \n",
            "2                1            767.0  1500  13500.0   16700.0  HomeImp   Other   \n",
            "3                1           1425.0  1500      NaN       NaN      NaN     NaN   \n",
            "4                0              NaN  1700  97800.0  112000.0  HomeImp  Office   \n",
            "\n",
            "    YOJ  DEROG  DELINQ       CLAGE  NINQ  CLNO  DEBTINC  \n",
            "0  10.5    0.0     0.0   94.366667   1.0   9.0      NaN  \n",
            "1   7.0    0.0     2.0  121.833333   0.0  14.0      NaN  \n",
            "2   4.0    0.0     0.0  149.466667   1.0  10.0      NaN  \n",
            "3   NaN    NaN     NaN         NaN   NaN   NaN      NaN  \n",
            "4   3.0    0.0     0.0   93.333333   0.0  14.0      NaN  \n",
            "<class 'pandas.core.frame.DataFrame'>\n",
            "RangeIndex: 5960 entries, 0 to 5959\n",
            "Data columns (total 14 columns):\n",
            " #   Column           Non-Null Count  Dtype  \n",
            "---  ------           --------------  -----  \n",
            " 0   TARGET_BAD_FLAG  5960 non-null   int64  \n",
            " 1   TARGET_LOSS_AMT  1189 non-null   float64\n",
            " 2   LOAN             5960 non-null   int64  \n",
            " 3   MORTDUE          5442 non-null   float64\n",
            " 4   VALUE            5848 non-null   float64\n",
            " 5   REASON           5708 non-null   object \n",
            " 6   JOB              5681 non-null   object \n",
            " 7   YOJ              5445 non-null   float64\n",
            " 8   DEROG            5252 non-null   float64\n",
            " 9   DELINQ           5380 non-null   float64\n",
            " 10  CLAGE            5652 non-null   float64\n",
            " 11  NINQ             5450 non-null   float64\n",
            " 12  CLNO             5738 non-null   float64\n",
            " 13  DEBTINC          4693 non-null   float64\n",
            "dtypes: float64(10), int64(2), object(2)\n",
            "memory usage: 652.0+ KB\n",
            "None\n"
          ]
        }
      ],
      "source": [
        "# Load the dataset, skipping the first row\n",
        "file_path = \"HMEQ_Loss.xls\"\n",
        "df = pd.read_excel(file_path, skiprows=1)\n",
        "\n",
        "# Show first few rows\n",
        "print(df.head())\n",
        "print(df.info())\n"
      ]
    },
    {
      "cell_type": "markdown",
      "source": [
        "# Handle missing values"
      ],
      "metadata": {
        "id": "66WEIEUgvxSH"
      }
    },
    {
      "cell_type": "code",
      "source": [
        "# Separate numeric and categorical columns\n",
        "num_cols = df.select_dtypes(include=['float64', 'int64']).columns\n",
        "cat_cols = df.select_dtypes(include=['object']).columns\n",
        "\n",
        "# Impute numeric missing values with median\n",
        "for col in num_cols:\n",
        "    df[col].fillna(df[col].median(), inplace=True)\n",
        "\n",
        "# (Optional) For categorical: fill missing with mode\n",
        "for col in cat_cols:\n",
        "    df[col].fillna(df[col].mode()[0], inplace=True)\n"
      ],
      "metadata": {
        "id": "gAEJnJx4uvuu"
      },
      "execution_count": 12,
      "outputs": []
    },
    {
      "cell_type": "markdown",
      "source": [
        "# Create numeric-only dataframe (without targets)"
      ],
      "metadata": {
        "id": "U5vImrKcv0gj"
      }
    },
    {
      "cell_type": "code",
      "source": [
        "# Drop target and categorical columns\n",
        "numeric_df = df[num_cols].drop(columns=['TARGET_BAD_FLAG', 'TARGET_LOSS_AMT'])\n",
        "\n",
        "print(numeric_df.head())\n"
      ],
      "metadata": {
        "colab": {
          "base_uri": "https://localhost:8080/"
        },
        "id": "dF9lZMoDuyq9",
        "outputId": "2f8f872b-e7b0-455b-c14a-8d8257d0f989"
      },
      "execution_count": 13,
      "outputs": [
        {
          "output_type": "stream",
          "name": "stdout",
          "text": [
            "   LOAN  MORTDUE     VALUE   YOJ  DEROG  DELINQ       CLAGE  NINQ  CLNO  \\\n",
            "0  1100  25860.0   39025.0  10.5    0.0     0.0   94.366667   1.0   9.0   \n",
            "1  1300  70053.0   68400.0   7.0    0.0     2.0  121.833333   0.0  14.0   \n",
            "2  1500  13500.0   16700.0   4.0    0.0     0.0  149.466667   1.0  10.0   \n",
            "3  1500  65019.0   89235.5   7.0    0.0     0.0  173.466667   1.0  20.0   \n",
            "4  1700  97800.0  112000.0   3.0    0.0     0.0   93.333333   0.0  14.0   \n",
            "\n",
            "     DEBTINC  \n",
            "0  34.818262  \n",
            "1  34.818262  \n",
            "2  34.818262  \n",
            "3  34.818262  \n",
            "4  34.818262  \n"
          ]
        }
      ]
    },
    {
      "cell_type": "markdown",
      "source": [
        "# Scale the numeric data"
      ],
      "metadata": {
        "id": "ZlBgPt-Lv3HT"
      }
    },
    {
      "cell_type": "code",
      "source": [
        "scaler = StandardScaler()\n",
        "scaled_data = scaler.fit_transform(numeric_df)\n",
        "\n",
        "scaled_df = pd.DataFrame(scaled_data, columns=numeric_df.columns)\n",
        "print(scaled_df.head())\n"
      ],
      "metadata": {
        "colab": {
          "base_uri": "https://localhost:8080/"
        },
        "id": "vSxhMWx0u0k9",
        "outputId": "91d0dbfa-5e60-462a-e85b-c3b3de9f9fc2"
      },
      "execution_count": 14,
      "outputs": [
        {
          "output_type": "stream",
          "name": "stdout",
          "text": [
            "       LOAN   MORTDUE     VALUE       YOJ     DEROG    DELINQ     CLAGE  \\\n",
            "0 -1.562299 -1.107920 -1.099371  0.240237 -0.280976 -0.375943 -1.018026   \n",
            "1 -1.544453 -0.069286 -0.582794 -0.241936 -0.280976  1.477341 -0.689350   \n",
            "2 -1.526606 -1.398407 -1.491970 -0.655226 -0.280976 -0.375943 -0.358680   \n",
            "3 -1.526606 -0.187596 -0.216389 -0.241936 -0.280976 -0.375943 -0.071488   \n",
            "4 -1.508759  0.582831  0.183939 -0.792990 -0.280976 -0.375943 -1.030391   \n",
            "\n",
            "       NINQ      CLNO   DEBTINC  \n",
            "0 -0.102879 -1.230878  0.106963  \n",
            "1 -0.707574 -0.728389  0.106963  \n",
            "2 -0.102879 -1.130380  0.106963  \n",
            "3 -0.102879 -0.125403  0.106963  \n",
            "4 -0.707574 -0.728389  0.106963  \n"
          ]
        }
      ]
    },
    {
      "cell_type": "markdown",
      "source": [
        "# Select variables for clustering"
      ],
      "metadata": {
        "id": "15o7Ncnxv58J"
      }
    },
    {
      "cell_type": "code",
      "source": [
        "cluster_vars = ['LOAN', 'MORTDUE', 'VALUE']\n",
        "X = scaled_df[cluster_vars]\n"
      ],
      "metadata": {
        "id": "g1HKHbzLu-Wx"
      },
      "execution_count": 15,
      "outputs": []
    },
    {
      "cell_type": "markdown",
      "source": [
        "# Determine number of clusters"
      ],
      "metadata": {
        "id": "lgYDJcwrv-Ea"
      }
    },
    {
      "cell_type": "code",
      "source": [
        "inertia = []\n",
        "silhouette = []\n",
        "\n",
        "for k in range(2, 10):  # trying 2 to 9 clusters\n",
        "    kmeans = KMeans(n_clusters=k, random_state=42)\n",
        "    kmeans.fit(X)\n",
        "    inertia.append(kmeans.inertia_)\n",
        "    silhouette.append(silhouette_score(X, kmeans.labels_))\n",
        "\n",
        "# Plot inertia\n",
        "plt.plot(range(2, 10), inertia, marker='o')\n",
        "plt.title('Elbow Method - Inertia')\n",
        "plt.xlabel('Number of clusters')\n",
        "plt.ylabel('Inertia')\n",
        "plt.show()\n"
      ],
      "metadata": {
        "colab": {
          "base_uri": "https://localhost:8080/",
          "height": 472
        },
        "id": "zGlXDGkCvAmN",
        "outputId": "4d2021f6-1707-4fbc-b532-a55b38b90fe3"
      },
      "execution_count": 20,
      "outputs": [
        {
          "output_type": "display_data",
          "data": {
            "text/plain": [
              "<Figure size 640x480 with 1 Axes>"
            ],
            "image/png": "[encoded data removed]"
          },
          "metadata": {}
        }
      ]
    },
    {
      "cell_type": "code",
      "source": [
        "# Plot silhouette\n",
        "plt.plot(range(2, 10), silhouette, marker='o')\n",
        "plt.title('Silhouette Score')\n",
        "plt.xlabel('Number of clusters')\n",
        "plt.ylabel('Silhouette')\n",
        "plt.show()\n"
      ],
      "metadata": {
        "colab": {
          "base_uri": "https://localhost:8080/",
          "height": 472
        },
        "id": "rWTQlDMmwEJV",
        "outputId": "3528f37a-41f3-452a-8be8-3365491c09cb"
      },
      "execution_count": 21,
      "outputs": [
        {
          "output_type": "display_data",
          "data": {
            "text/plain": [
              "<Figure size 640x480 with 1 Axes>"
            ],
            "image/png": "[encoded data removed]"
          },
          "metadata": {}
        }
      ]
    },
    {
      "cell_type": "markdown",
      "source": [
        "# Apply KMeans with chosen k"
      ],
      "metadata": {
        "id": "x_Am6SM4wHdo"
      }
    },
    {
      "cell_type": "code",
      "source": [
        "kmeans = KMeans(n_clusters=3, random_state=42)\n",
        "df['Cluster'] = kmeans.fit_predict(X)\n",
        "\n",
        "# Profile clusters\n",
        "cluster_profile = df.groupby('Cluster')[cluster_vars].mean()\n",
        "print(cluster_profile)\n"
      ],
      "metadata": {
        "colab": {
          "base_uri": "https://localhost:8080/"
        },
        "id": "EsB1hMkgvAoB",
        "outputId": "51b6ea14-11fd-439a-abd9-d77debcbfac5"
      },
      "execution_count": 18,
      "outputs": [
        {
          "output_type": "stream",
          "name": "stdout",
          "text": [
            "                 LOAN        MORTDUE          VALUE\n",
            "Cluster                                            \n",
            "0        24839.959432  144150.660913  194060.948783\n",
            "1        44691.379310   47560.790640   88574.363448\n",
            "2        14944.527145   59904.548279   82722.290276\n"
          ]
        }
      ]
    },
    {
      "cell_type": "markdown",
      "source": [
        "# Interpret results"
      ],
      "metadata": {
        "id": "MMefFix6wKZp"
      }
    },
    {
      "cell_type": "code",
      "source": [
        "# Compare clusters with targets\n",
        "cluster_risk = df.groupby('Cluster')[['TARGET_BAD_FLAG', 'TARGET_LOSS_AMT']].mean()\n",
        "print(cluster_risk)\n",
        "\n"
      ],
      "metadata": {
        "colab": {
          "base_uri": "https://localhost:8080/"
        },
        "id": "tkHV5w8VvArV",
        "outputId": "924a5448-299d-4655-8743-59c184a42a1f"
      },
      "execution_count": 19,
      "outputs": [
        {
          "output_type": "stream",
          "name": "stdout",
          "text": [
            "         TARGET_BAD_FLAG  TARGET_LOSS_AMT\n",
            "Cluster                                  \n",
            "0               0.182556     12754.724138\n",
            "1               0.167488     14870.586207\n",
            "2               0.205998     10908.850482\n"
          ]
        }
      ]
    }
  ]
}